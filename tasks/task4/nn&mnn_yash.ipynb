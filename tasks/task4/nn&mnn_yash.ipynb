{
  "nbformat": 4,
  "nbformat_minor": 0,
  "metadata": {
    "colab": {
      "provenance": []
    },
    "kernelspec": {
      "name": "python3",
      "display_name": "Python 3"
    },
    "language_info": {
      "name": "python"
    }
  },
  "cells": [
    {
      "cell_type": "code",
      "source": [
        "import numpy as np\n",
        "import pandas as pd\n",
        "from sklearn.neighbors import NearestNeighbors\n",
        "import random"
      ],
      "metadata": {
        "id": "1ZGAdLBzuwpl"
      },
      "execution_count": 2,
      "outputs": []
    },
    {
      "cell_type": "code",
      "source": [
        "def generate_random_data(n_samples, n_features, min_val=0, max_val=10):\n",
        "    return np.random.uniform(min_val, max_val, (n_samples, n_features))"
      ],
      "metadata": {
        "id": "fXj2rDG_zRfa"
      },
      "execution_count": 3,
      "outputs": []
    },
    {
      "cell_type": "code",
      "source": [
        "def create_adjacency_matrix(data, k):\n",
        "    n_samples = len(data)\n",
        "    knn = NearestNeighbors(n_neighbors=k+1)\n",
        "    knn.fit(data)\n",
        "\n",
        "    _, indices = knn.kneighbors(data)\n",
        "    adj_matrix = np.zeros((n_samples, n_samples))\n",
        "\n",
        "    for i in range(n_samples):\n",
        "        for j in indices[i][1:]:\n",
        "            adj_matrix[i][j] = 1\n",
        "\n",
        "    return adj_matrix"
      ],
      "metadata": {
        "id": "oARrSeJMzTnP"
      },
      "execution_count": 4,
      "outputs": []
    },
    {
      "cell_type": "code",
      "source": [
        "def calculate_scores(adj_matrix):\n",
        "    n_samples = len(adj_matrix)\n",
        "    nn_scores = np.zeros(n_samples)\n",
        "    mnn_scores = np.zeros(n_samples)\n",
        "\n",
        "    for i in range(n_samples):\n",
        "        for j in range(n_samples):\n",
        "            if i != j and adj_matrix[j][i] == 1:\n",
        "                nn_scores[i] += 1\n",
        "                if adj_matrix[i][j] == 1:\n",
        "                    mnn_scores[i] += 1\n",
        "\n",
        "    return nn_scores, mnn_scores"
      ],
      "metadata": {
        "id": "fczxyMFYzYrT"
      },
      "execution_count": 5,
      "outputs": []
    },
    {
      "cell_type": "code",
      "source": [
        "k = 2\n",
        "n_samples = 5\n",
        "n_features = 2\n",
        "\n",
        "data = generate_random_data(n_samples, n_features)\n",
        "adj_matrix = create_adjacency_matrix(data, k)\n",
        "nn_scores, mnn_scores = calculate_scores(adj_matrix)\n",
        "\n",
        "results = pd.DataFrame({\n",
        "    'Feature_1': data[:, 0],\n",
        "    'Feature_2': data[:, 1],\n",
        "    'NN Score': nn_scores,\n",
        "    'MNN Score': mnn_scores\n",
        "})\n",
        "\n",
        "print(\"\\nRandom Data Points:\")\n",
        "print(data)\n",
        "print(\"\\nAdjacency Matrix:\")\n",
        "print(adj_matrix)\n",
        "print(\"\\nScores:\")\n",
        "print(results)\n",
        "\n",
        "print(\"\\nDetails:\")\n",
        "for i in range(n_samples):\n",
        "    neighbors = np.where(adj_matrix[i] == 1)[0]\n",
        "    print(f\"Point {i} neighbors: {neighbors}\")\n",
        "    print(f\"NN Score: {nn_scores[i]}\")\n",
        "    print(f\"MNN Score: {mnn_scores[i]}\")\n",
        "    print()"
      ],
      "metadata": {
        "colab": {
          "base_uri": "https://localhost:8080/"
        },
        "id": "VtDCphrizZWm",
        "outputId": "4347bea6-4d12-422a-ee92-c84f30003d21"
      },
      "execution_count": 7,
      "outputs": [
        {
          "output_type": "stream",
          "name": "stdout",
          "text": [
            "\n",
            "Random Data Points:\n",
            "[[8.92042112 1.1917227 ]\n",
            " [4.0274711  0.79674044]\n",
            " [3.35274719 4.82766011]\n",
            " [5.80403835 9.94593805]\n",
            " [0.07072737 9.35997112]]\n",
            "\n",
            "Adjacency Matrix:\n",
            "[[0. 1. 1. 0. 0.]\n",
            " [1. 0. 1. 0. 0.]\n",
            " [0. 1. 0. 0. 1.]\n",
            " [0. 0. 1. 0. 1.]\n",
            " [0. 0. 1. 1. 0.]]\n",
            "\n",
            "Scores:\n",
            "   Feature_1  Feature_2  NN Score  MNN Score\n",
            "0   8.920421   1.191723       1.0        1.0\n",
            "1   4.027471   0.796740       2.0        2.0\n",
            "2   3.352747   4.827660       4.0        2.0\n",
            "3   5.804038   9.945938       1.0        1.0\n",
            "4   0.070727   9.359971       2.0        2.0\n",
            "\n",
            "Details:\n",
            "Point 0 neighbors: [1 2]\n",
            "NN Score: 1.0\n",
            "MNN Score: 1.0\n",
            "\n",
            "Point 1 neighbors: [0 2]\n",
            "NN Score: 2.0\n",
            "MNN Score: 2.0\n",
            "\n",
            "Point 2 neighbors: [1 4]\n",
            "NN Score: 4.0\n",
            "MNN Score: 2.0\n",
            "\n",
            "Point 3 neighbors: [2 4]\n",
            "NN Score: 1.0\n",
            "MNN Score: 1.0\n",
            "\n",
            "Point 4 neighbors: [2 3]\n",
            "NN Score: 2.0\n",
            "MNN Score: 2.0\n",
            "\n"
          ]
        }
      ]
    },
    {
      "cell_type": "code",
      "source": [],
      "metadata": {
        "id": "KNnVqWDCzftm"
      },
      "execution_count": null,
      "outputs": []
    }
  ]
}